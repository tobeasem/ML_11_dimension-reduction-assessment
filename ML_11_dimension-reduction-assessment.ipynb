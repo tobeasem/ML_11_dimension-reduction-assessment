{
 "cells": [
  {
   "cell_type": "markdown",
   "metadata": {},
   "source": [
    "# Formative Assessment"
   ]
  },
  {
   "cell_type": "markdown",
   "metadata": {},
   "source": [
    "### The goal"
   ]
  },
  {
   "cell_type": "markdown",
   "metadata": {},
   "source": [
    "The goal of the assignment is to predict active power of a wind turbine using several input features. The data comes from a wind farm in France, [La Haute Borne Data (2013-2016)](https://opendata-renewables.engie.com/explore/dataset/la-haute-borne-data-2013-2016/table/?dataChart=eyJxdWVyaWVzIjpbeyJjb25maWciOnsiZGF0YXNldCI6ImxhLWhhdXRlLWJvcm5lLWRhdGEtMjAxMy0yMDE2Iiwib3B0aW9ucyI6e319LCJjaGFydHMiOlt7InR5cGUiOiJsaW5lIiwiZnVuYyI6IkFWRyIsInlBeGlzIjoiYmFfYXZnIiwic2NpZW50aWZpY0Rpc3BsYXkiOnRydWUsImNvbG9yIjoiIzY2YzJhNSJ9XSwieEF4aXMiOiJkYXRlX3RpbWUiLCJtYXhwb2ludHMiOiIiLCJ0aW1lc2NhbGUiOiJ5ZWFyIiwic29ydCI6IiJ9XX0%3D). A total of 139 features are included in the dataset, with several measures of the same feature. For instance, the active power feature is split into the following measurements: `P_min, P_max, P_avg, P_std`. \n",
    "\n",
    "The overall tasks are the following:\n",
    "\n",
    "1. Use a random forest regressor to predict power output. \n",
    "2. Perform dimension reduction using PCA.\n",
    "2. Perform cross validation to determine how well the model generalises. \n",
    "3. Determine the importance of the features.\n",
    "4. Determine the performance of the models as well.\n",
    "\n",
    "The notebook will guide you as to how to go about fulfilling these overall tasks by doing other smaller subtasks.\n",
    "\n",
    "Note that the dataset is very large, with 139 columns, so using a bit of domain knowledge we identified the following features that could be using in predicting wind turbine power output. Add to the feature subset as you build the model.\n",
    "\n"
   ]
  },
  {
   "cell_type": "markdown",
   "metadata": {},
   "source": [
    "### Load the data"
   ]
  },
  {
   "cell_type": "markdown",
   "metadata": {},
   "source": [
    "Import the necessary libraries and load the data. Once loaded, investigate the data. There are two files: `data_description.csv` lists the variables or features of the dataset. The file `wind-data.csv` contains the data (`wind-data-truncated.csv` if downloaded from the LMS, due to file size limits)."
   ]
  },
  {
   "cell_type": "code",
   "execution_count": 94,
   "metadata": {},
   "outputs": [],
   "source": [
    "import pandas as pd\n",
    "import numpy as np\n",
    "import matplotlib.pyplot as plt\n",
    "from sklearn.decomposition import PCA\n",
    "from sklearn import linear_model\n",
    "from sklearn.pipeline import Pipeline\n",
    "from sklearn.model_selection import train_test_split\n",
    "from sklearn.metrics import confusion_matrix, f1_score\n",
    "from sklearn.model_selection import train_test_split\n",
    "from sklearn.ensemble import RandomForestClassifier\n",
    "\n",
    "%matplotlib inline"
   ]
  },
  {
   "cell_type": "code",
   "execution_count": null,
   "metadata": {},
   "outputs": [],
   "source": []
  },
  {
   "cell_type": "markdown",
   "metadata": {},
   "source": [
    "Load both the `data_description.csv` and `wind-data.csv` files."
   ]
  },
  {
   "cell_type": "code",
   "execution_count": 95,
   "metadata": {},
   "outputs": [],
   "source": [
    "data_descrip = pd.read_csv(\"data_description.csv\", sep=';')"
   ]
  },
  {
   "cell_type": "code",
   "execution_count": 96,
   "metadata": {},
   "outputs": [],
   "source": [
    "wind_data = pd.read_csv(\"wind-data-truncated.csv\", parse_dates=['Date_time'])"
   ]
  },
  {
   "cell_type": "markdown",
   "metadata": {},
   "source": [
    "__Helpful hint__: Load the data into a dataframe. Use the `parse_dates=['Date_time']` argument in the `read_csv` function in order to display dates in later plots."
   ]
  },
  {
   "cell_type": "code",
   "execution_count": 97,
   "metadata": {},
   "outputs": [
    {
     "data": {
      "text/html": [
       "<div>\n",
       "<style scoped>\n",
       "    .dataframe tbody tr th:only-of-type {\n",
       "        vertical-align: middle;\n",
       "    }\n",
       "\n",
       "    .dataframe tbody tr th {\n",
       "        vertical-align: top;\n",
       "    }\n",
       "\n",
       "    .dataframe thead th {\n",
       "        text-align: right;\n",
       "    }\n",
       "</style>\n",
       "<table border=\"1\" class=\"dataframe\">\n",
       "  <thead>\n",
       "    <tr style=\"text-align: right;\">\n",
       "      <th></th>\n",
       "      <th>Variable_name</th>\n",
       "      <th>Variable_long_name</th>\n",
       "      <th>Unit_long_name</th>\n",
       "      <th>Comment</th>\n",
       "    </tr>\n",
       "  </thead>\n",
       "  <tbody>\n",
       "    <tr>\n",
       "      <th>0</th>\n",
       "      <td>Va2</td>\n",
       "      <td>Vane_position_2</td>\n",
       "      <td>deg</td>\n",
       "      <td>Second wind vane on the nacelle</td>\n",
       "    </tr>\n",
       "    <tr>\n",
       "      <th>1</th>\n",
       "      <td>Ws2</td>\n",
       "      <td>Wind_speed_2</td>\n",
       "      <td>m/s</td>\n",
       "      <td>Second anemometer on the nacelle</td>\n",
       "    </tr>\n",
       "    <tr>\n",
       "      <th>2</th>\n",
       "      <td>Ws</td>\n",
       "      <td>Wind_speed</td>\n",
       "      <td>m/s</td>\n",
       "      <td>Average wind speed</td>\n",
       "    </tr>\n",
       "    <tr>\n",
       "      <th>3</th>\n",
       "      <td>Wa_c</td>\n",
       "      <td>Absolute_wind_direction_corrected</td>\n",
       "      <td>deg</td>\n",
       "      <td>NaN</td>\n",
       "    </tr>\n",
       "    <tr>\n",
       "      <th>4</th>\n",
       "      <td>Na_c</td>\n",
       "      <td>Nacelle_angle_corrected</td>\n",
       "      <td>deg</td>\n",
       "      <td>NaN</td>\n",
       "    </tr>\n",
       "  </tbody>\n",
       "</table>\n",
       "</div>"
      ],
      "text/plain": [
       "  Variable_name                 Variable_long_name Unit_long_name  \\\n",
       "0           Va2                    Vane_position_2            deg   \n",
       "1           Ws2                       Wind_speed_2            m/s   \n",
       "2            Ws                         Wind_speed            m/s   \n",
       "3          Wa_c  Absolute_wind_direction_corrected            deg   \n",
       "4          Na_c            Nacelle_angle_corrected            deg   \n",
       "\n",
       "                            Comment  \n",
       "0   Second wind vane on the nacelle  \n",
       "1  Second anemometer on the nacelle  \n",
       "2                Average wind speed  \n",
       "3                               NaN  \n",
       "4                               NaN  "
      ]
     },
     "execution_count": 97,
     "metadata": {},
     "output_type": "execute_result"
    }
   ],
   "source": [
    "data_descrip.head()"
   ]
  },
  {
   "cell_type": "code",
   "execution_count": 98,
   "metadata": {},
   "outputs": [
    {
     "data": {
      "text/html": [
       "<div>\n",
       "<style scoped>\n",
       "    .dataframe tbody tr th:only-of-type {\n",
       "        vertical-align: middle;\n",
       "    }\n",
       "\n",
       "    .dataframe tbody tr th {\n",
       "        vertical-align: top;\n",
       "    }\n",
       "\n",
       "    .dataframe thead th {\n",
       "        text-align: right;\n",
       "    }\n",
       "</style>\n",
       "<table border=\"1\" class=\"dataframe\">\n",
       "  <thead>\n",
       "    <tr style=\"text-align: right;\">\n",
       "      <th></th>\n",
       "      <th>Unnamed: 0</th>\n",
       "      <th>Wind_turbine_name</th>\n",
       "      <th>Date_time</th>\n",
       "      <th>Ba_avg</th>\n",
       "      <th>Ba_min</th>\n",
       "      <th>Ba_max</th>\n",
       "      <th>Ba_std</th>\n",
       "      <th>Rt_avg</th>\n",
       "      <th>Rt_min</th>\n",
       "      <th>Rt_max</th>\n",
       "      <th>...</th>\n",
       "      <th>Pas_max</th>\n",
       "      <th>Pas_std</th>\n",
       "      <th>Wa_c_avg</th>\n",
       "      <th>Wa_c_min</th>\n",
       "      <th>Wa_c_max</th>\n",
       "      <th>Wa_c_std</th>\n",
       "      <th>Na_c_avg</th>\n",
       "      <th>Na_c_min</th>\n",
       "      <th>Na_c_max</th>\n",
       "      <th>Na_c_std</th>\n",
       "    </tr>\n",
       "  </thead>\n",
       "  <tbody>\n",
       "    <tr>\n",
       "      <th>0</th>\n",
       "      <td>804808</td>\n",
       "      <td>R80711</td>\n",
       "      <td>2013-04-06 14:20:00</td>\n",
       "      <td>-0.940000</td>\n",
       "      <td>-0.950000</td>\n",
       "      <td>-0.940000</td>\n",
       "      <td>0.0</td>\n",
       "      <td>10.59</td>\n",
       "      <td>10.000000</td>\n",
       "      <td>11.0</td>\n",
       "      <td>...</td>\n",
       "      <td>NaN</td>\n",
       "      <td>NaN</td>\n",
       "      <td>358.870000</td>\n",
       "      <td>NaN</td>\n",
       "      <td>NaN</td>\n",
       "      <td>NaN</td>\n",
       "      <td>351.670010</td>\n",
       "      <td>NaN</td>\n",
       "      <td>NaN</td>\n",
       "      <td>NaN</td>\n",
       "    </tr>\n",
       "    <tr>\n",
       "      <th>1</th>\n",
       "      <td>732424</td>\n",
       "      <td>R80711</td>\n",
       "      <td>2015-12-22 14:30:00</td>\n",
       "      <td>-0.990000</td>\n",
       "      <td>-0.990000</td>\n",
       "      <td>-0.990000</td>\n",
       "      <td>0.0</td>\n",
       "      <td>17.00</td>\n",
       "      <td>17.000000</td>\n",
       "      <td>17.0</td>\n",
       "      <td>...</td>\n",
       "      <td>NaN</td>\n",
       "      <td>NaN</td>\n",
       "      <td>NaN</td>\n",
       "      <td>NaN</td>\n",
       "      <td>NaN</td>\n",
       "      <td>NaN</td>\n",
       "      <td>NaN</td>\n",
       "      <td>NaN</td>\n",
       "      <td>NaN</td>\n",
       "      <td>NaN</td>\n",
       "    </tr>\n",
       "    <tr>\n",
       "      <th>2</th>\n",
       "      <td>312987</td>\n",
       "      <td>R80711</td>\n",
       "      <td>2016-03-20 20:40:00</td>\n",
       "      <td>-0.990000</td>\n",
       "      <td>-0.990000</td>\n",
       "      <td>-0.990000</td>\n",
       "      <td>0.0</td>\n",
       "      <td>12.88</td>\n",
       "      <td>12.000000</td>\n",
       "      <td>13.0</td>\n",
       "      <td>...</td>\n",
       "      <td>NaN</td>\n",
       "      <td>NaN</td>\n",
       "      <td>44.849998</td>\n",
       "      <td>NaN</td>\n",
       "      <td>NaN</td>\n",
       "      <td>NaN</td>\n",
       "      <td>44.849998</td>\n",
       "      <td>NaN</td>\n",
       "      <td>NaN</td>\n",
       "      <td>NaN</td>\n",
       "    </tr>\n",
       "    <tr>\n",
       "      <th>3</th>\n",
       "      <td>68152</td>\n",
       "      <td>R80711</td>\n",
       "      <td>2016-01-09 01:00:00</td>\n",
       "      <td>45.000000</td>\n",
       "      <td>45.000000</td>\n",
       "      <td>45.000000</td>\n",
       "      <td>0.0</td>\n",
       "      <td>12.95</td>\n",
       "      <td>12.000000</td>\n",
       "      <td>13.0</td>\n",
       "      <td>...</td>\n",
       "      <td>NaN</td>\n",
       "      <td>NaN</td>\n",
       "      <td>243.020000</td>\n",
       "      <td>NaN</td>\n",
       "      <td>NaN</td>\n",
       "      <td>NaN</td>\n",
       "      <td>243.020000</td>\n",
       "      <td>NaN</td>\n",
       "      <td>NaN</td>\n",
       "      <td>NaN</td>\n",
       "    </tr>\n",
       "    <tr>\n",
       "      <th>4</th>\n",
       "      <td>231878</td>\n",
       "      <td>R80721</td>\n",
       "      <td>2014-12-14 13:20:00</td>\n",
       "      <td>44.990002</td>\n",
       "      <td>44.990002</td>\n",
       "      <td>44.990002</td>\n",
       "      <td>0.0</td>\n",
       "      <td>16.99</td>\n",
       "      <td>16.110001</td>\n",
       "      <td>17.0</td>\n",
       "      <td>...</td>\n",
       "      <td>NaN</td>\n",
       "      <td>NaN</td>\n",
       "      <td>195.060000</td>\n",
       "      <td>NaN</td>\n",
       "      <td>NaN</td>\n",
       "      <td>NaN</td>\n",
       "      <td>308.239990</td>\n",
       "      <td>NaN</td>\n",
       "      <td>NaN</td>\n",
       "      <td>NaN</td>\n",
       "    </tr>\n",
       "  </tbody>\n",
       "</table>\n",
       "<p>5 rows × 139 columns</p>\n",
       "</div>"
      ],
      "text/plain": [
       "   Unnamed: 0 Wind_turbine_name           Date_time     Ba_avg     Ba_min  \\\n",
       "0      804808            R80711 2013-04-06 14:20:00  -0.940000  -0.950000   \n",
       "1      732424            R80711 2015-12-22 14:30:00  -0.990000  -0.990000   \n",
       "2      312987            R80711 2016-03-20 20:40:00  -0.990000  -0.990000   \n",
       "3       68152            R80711 2016-01-09 01:00:00  45.000000  45.000000   \n",
       "4      231878            R80721 2014-12-14 13:20:00  44.990002  44.990002   \n",
       "\n",
       "      Ba_max  Ba_std  Rt_avg     Rt_min  Rt_max    ...     Pas_max  Pas_std  \\\n",
       "0  -0.940000     0.0   10.59  10.000000    11.0    ...         NaN      NaN   \n",
       "1  -0.990000     0.0   17.00  17.000000    17.0    ...         NaN      NaN   \n",
       "2  -0.990000     0.0   12.88  12.000000    13.0    ...         NaN      NaN   \n",
       "3  45.000000     0.0   12.95  12.000000    13.0    ...         NaN      NaN   \n",
       "4  44.990002     0.0   16.99  16.110001    17.0    ...         NaN      NaN   \n",
       "\n",
       "     Wa_c_avg  Wa_c_min  Wa_c_max  Wa_c_std    Na_c_avg  Na_c_min  Na_c_max  \\\n",
       "0  358.870000       NaN       NaN       NaN  351.670010       NaN       NaN   \n",
       "1         NaN       NaN       NaN       NaN         NaN       NaN       NaN   \n",
       "2   44.849998       NaN       NaN       NaN   44.849998       NaN       NaN   \n",
       "3  243.020000       NaN       NaN       NaN  243.020000       NaN       NaN   \n",
       "4  195.060000       NaN       NaN       NaN  308.239990       NaN       NaN   \n",
       "\n",
       "   Na_c_std  \n",
       "0       NaN  \n",
       "1       NaN  \n",
       "2       NaN  \n",
       "3       NaN  \n",
       "4       NaN  \n",
       "\n",
       "[5 rows x 139 columns]"
      ]
     },
     "execution_count": 98,
     "metadata": {},
     "output_type": "execute_result"
    }
   ],
   "source": [
    "wind_data.head(5)"
   ]
  },
  {
   "cell_type": "markdown",
   "metadata": {},
   "source": [
    "### Explore the data"
   ]
  },
  {
   "cell_type": "markdown",
   "metadata": {},
   "source": [
    "Once you've loaded the data into a pandas dataframe, explore the data. You may start by generating summary statistics, identifying any missing values, and filling in missing values. Generate visualizations of the features as a way to start understanding the distribution of the data."
   ]
  },
  {
   "cell_type": "code",
   "execution_count": 99,
   "metadata": {},
   "outputs": [
    {
     "name": "stdout",
     "output_type": "stream",
     "text": [
      "<class 'pandas.core.frame.DataFrame'>\n",
      "RangeIndex: 25000 entries, 0 to 24999\n",
      "Columns: 139 entries, Unnamed: 0 to Na_c_std\n",
      "dtypes: datetime64[ns](1), float64(136), int64(1), object(1)\n",
      "memory usage: 26.5+ MB\n"
     ]
    }
   ],
   "source": [
    "wind_data.info()"
   ]
  },
  {
   "cell_type": "code",
   "execution_count": 100,
   "metadata": {},
   "outputs": [
    {
     "data": {
      "text/html": [
       "<div>\n",
       "<style scoped>\n",
       "    .dataframe tbody tr th:only-of-type {\n",
       "        vertical-align: middle;\n",
       "    }\n",
       "\n",
       "    .dataframe tbody tr th {\n",
       "        vertical-align: top;\n",
       "    }\n",
       "\n",
       "    .dataframe thead th {\n",
       "        text-align: right;\n",
       "    }\n",
       "</style>\n",
       "<table border=\"1\" class=\"dataframe\">\n",
       "  <thead>\n",
       "    <tr style=\"text-align: right;\">\n",
       "      <th></th>\n",
       "      <th>Unnamed: 0</th>\n",
       "      <th>Ba_avg</th>\n",
       "      <th>Ba_min</th>\n",
       "      <th>Ba_max</th>\n",
       "      <th>Ba_std</th>\n",
       "      <th>Rt_avg</th>\n",
       "      <th>Rt_min</th>\n",
       "      <th>Rt_max</th>\n",
       "      <th>Rt_std</th>\n",
       "      <th>DCs_avg</th>\n",
       "      <th>...</th>\n",
       "      <th>Pas_max</th>\n",
       "      <th>Pas_std</th>\n",
       "      <th>Wa_c_avg</th>\n",
       "      <th>Wa_c_min</th>\n",
       "      <th>Wa_c_max</th>\n",
       "      <th>Wa_c_std</th>\n",
       "      <th>Na_c_avg</th>\n",
       "      <th>Na_c_min</th>\n",
       "      <th>Na_c_max</th>\n",
       "      <th>Na_c_std</th>\n",
       "    </tr>\n",
       "  </thead>\n",
       "  <tbody>\n",
       "    <tr>\n",
       "      <th>count</th>\n",
       "      <td>25000.000000</td>\n",
       "      <td>24863.000000</td>\n",
       "      <td>24863.000000</td>\n",
       "      <td>24863.000000</td>\n",
       "      <td>24863.000000</td>\n",
       "      <td>24863.000000</td>\n",
       "      <td>24863.000000</td>\n",
       "      <td>24863.000000</td>\n",
       "      <td>24863.000000</td>\n",
       "      <td>24863.000000</td>\n",
       "      <td>...</td>\n",
       "      <td>0.0</td>\n",
       "      <td>0.0</td>\n",
       "      <td>24023.000000</td>\n",
       "      <td>0.0</td>\n",
       "      <td>0.0</td>\n",
       "      <td>0.0</td>\n",
       "      <td>24023.000000</td>\n",
       "      <td>0.0</td>\n",
       "      <td>0.0</td>\n",
       "      <td>0.0</td>\n",
       "    </tr>\n",
       "    <tr>\n",
       "      <th>mean</th>\n",
       "      <td>420690.593400</td>\n",
       "      <td>13.908417</td>\n",
       "      <td>12.809536</td>\n",
       "      <td>15.365060</td>\n",
       "      <td>0.860982</td>\n",
       "      <td>19.315983</td>\n",
       "      <td>19.122009</td>\n",
       "      <td>19.535519</td>\n",
       "      <td>0.105912</td>\n",
       "      <td>1055.278639</td>\n",
       "      <td>...</td>\n",
       "      <td>NaN</td>\n",
       "      <td>NaN</td>\n",
       "      <td>178.370313</td>\n",
       "      <td>NaN</td>\n",
       "      <td>NaN</td>\n",
       "      <td>NaN</td>\n",
       "      <td>179.284643</td>\n",
       "      <td>NaN</td>\n",
       "      <td>NaN</td>\n",
       "      <td>NaN</td>\n",
       "    </tr>\n",
       "    <tr>\n",
       "      <th>std</th>\n",
       "      <td>242467.126033</td>\n",
       "      <td>28.292036</td>\n",
       "      <td>28.123074</td>\n",
       "      <td>28.840993</td>\n",
       "      <td>3.873753</td>\n",
       "      <td>6.183012</td>\n",
       "      <td>6.194615</td>\n",
       "      <td>6.186675</td>\n",
       "      <td>0.157304</td>\n",
       "      <td>626.559284</td>\n",
       "      <td>...</td>\n",
       "      <td>NaN</td>\n",
       "      <td>NaN</td>\n",
       "      <td>95.777425</td>\n",
       "      <td>NaN</td>\n",
       "      <td>NaN</td>\n",
       "      <td>NaN</td>\n",
       "      <td>95.969775</td>\n",
       "      <td>NaN</td>\n",
       "      <td>NaN</td>\n",
       "      <td>NaN</td>\n",
       "    </tr>\n",
       "    <tr>\n",
       "      <th>min</th>\n",
       "      <td>29.000000</td>\n",
       "      <td>-1.050000</td>\n",
       "      <td>-23.040001</td>\n",
       "      <td>-1.050000</td>\n",
       "      <td>0.000000</td>\n",
       "      <td>5.000000</td>\n",
       "      <td>4.940000</td>\n",
       "      <td>5.000000</td>\n",
       "      <td>0.000000</td>\n",
       "      <td>-574.880000</td>\n",
       "      <td>...</td>\n",
       "      <td>NaN</td>\n",
       "      <td>NaN</td>\n",
       "      <td>0.000000</td>\n",
       "      <td>NaN</td>\n",
       "      <td>NaN</td>\n",
       "      <td>NaN</td>\n",
       "      <td>0.080000</td>\n",
       "      <td>NaN</td>\n",
       "      <td>NaN</td>\n",
       "      <td>NaN</td>\n",
       "    </tr>\n",
       "    <tr>\n",
       "      <th>25%</th>\n",
       "      <td>211555.500000</td>\n",
       "      <td>-0.990000</td>\n",
       "      <td>-1.000000</td>\n",
       "      <td>-0.990000</td>\n",
       "      <td>0.000000</td>\n",
       "      <td>14.080000</td>\n",
       "      <td>14.000000</td>\n",
       "      <td>15.000000</td>\n",
       "      <td>0.000000</td>\n",
       "      <td>963.825015</td>\n",
       "      <td>...</td>\n",
       "      <td>NaN</td>\n",
       "      <td>NaN</td>\n",
       "      <td>86.075001</td>\n",
       "      <td>NaN</td>\n",
       "      <td>NaN</td>\n",
       "      <td>NaN</td>\n",
       "      <td>86.779999</td>\n",
       "      <td>NaN</td>\n",
       "      <td>NaN</td>\n",
       "      <td>NaN</td>\n",
       "    </tr>\n",
       "    <tr>\n",
       "      <th>50%</th>\n",
       "      <td>421692.500000</td>\n",
       "      <td>-0.970000</td>\n",
       "      <td>-0.990000</td>\n",
       "      <td>-0.500000</td>\n",
       "      <td>0.000000</td>\n",
       "      <td>19.000000</td>\n",
       "      <td>19.000000</td>\n",
       "      <td>19.000000</td>\n",
       "      <td>0.000000</td>\n",
       "      <td>1180.170000</td>\n",
       "      <td>...</td>\n",
       "      <td>NaN</td>\n",
       "      <td>NaN</td>\n",
       "      <td>195.190000</td>\n",
       "      <td>NaN</td>\n",
       "      <td>NaN</td>\n",
       "      <td>NaN</td>\n",
       "      <td>196.710010</td>\n",
       "      <td>NaN</td>\n",
       "      <td>NaN</td>\n",
       "      <td>NaN</td>\n",
       "    </tr>\n",
       "    <tr>\n",
       "      <th>75%</th>\n",
       "      <td>629736.500000</td>\n",
       "      <td>7.125000</td>\n",
       "      <td>-0.500000</td>\n",
       "      <td>44.980000</td>\n",
       "      <td>0.130000</td>\n",
       "      <td>24.000000</td>\n",
       "      <td>24.000000</td>\n",
       "      <td>24.000000</td>\n",
       "      <td>0.210000</td>\n",
       "      <td>1565.585000</td>\n",
       "      <td>...</td>\n",
       "      <td>NaN</td>\n",
       "      <td>NaN</td>\n",
       "      <td>248.300000</td>\n",
       "      <td>NaN</td>\n",
       "      <td>NaN</td>\n",
       "      <td>NaN</td>\n",
       "      <td>250.050000</td>\n",
       "      <td>NaN</td>\n",
       "      <td>NaN</td>\n",
       "      <td>NaN</td>\n",
       "    </tr>\n",
       "    <tr>\n",
       "      <th>max</th>\n",
       "      <td>840316.000000</td>\n",
       "      <td>117.130000</td>\n",
       "      <td>117.130000</td>\n",
       "      <td>161.770000</td>\n",
       "      <td>45.220001</td>\n",
       "      <td>39.000000</td>\n",
       "      <td>39.000000</td>\n",
       "      <td>39.000000</td>\n",
       "      <td>0.940000</td>\n",
       "      <td>1805.770000</td>\n",
       "      <td>...</td>\n",
       "      <td>NaN</td>\n",
       "      <td>NaN</td>\n",
       "      <td>359.950010</td>\n",
       "      <td>NaN</td>\n",
       "      <td>NaN</td>\n",
       "      <td>NaN</td>\n",
       "      <td>359.950010</td>\n",
       "      <td>NaN</td>\n",
       "      <td>NaN</td>\n",
       "      <td>NaN</td>\n",
       "    </tr>\n",
       "  </tbody>\n",
       "</table>\n",
       "<p>8 rows × 137 columns</p>\n",
       "</div>"
      ],
      "text/plain": [
       "          Unnamed: 0        Ba_avg        Ba_min        Ba_max        Ba_std  \\\n",
       "count   25000.000000  24863.000000  24863.000000  24863.000000  24863.000000   \n",
       "mean   420690.593400     13.908417     12.809536     15.365060      0.860982   \n",
       "std    242467.126033     28.292036     28.123074     28.840993      3.873753   \n",
       "min        29.000000     -1.050000    -23.040001     -1.050000      0.000000   \n",
       "25%    211555.500000     -0.990000     -1.000000     -0.990000      0.000000   \n",
       "50%    421692.500000     -0.970000     -0.990000     -0.500000      0.000000   \n",
       "75%    629736.500000      7.125000     -0.500000     44.980000      0.130000   \n",
       "max    840316.000000    117.130000    117.130000    161.770000     45.220001   \n",
       "\n",
       "             Rt_avg        Rt_min        Rt_max        Rt_std       DCs_avg  \\\n",
       "count  24863.000000  24863.000000  24863.000000  24863.000000  24863.000000   \n",
       "mean      19.315983     19.122009     19.535519      0.105912   1055.278639   \n",
       "std        6.183012      6.194615      6.186675      0.157304    626.559284   \n",
       "min        5.000000      4.940000      5.000000      0.000000   -574.880000   \n",
       "25%       14.080000     14.000000     15.000000      0.000000    963.825015   \n",
       "50%       19.000000     19.000000     19.000000      0.000000   1180.170000   \n",
       "75%       24.000000     24.000000     24.000000      0.210000   1565.585000   \n",
       "max       39.000000     39.000000     39.000000      0.940000   1805.770000   \n",
       "\n",
       "         ...     Pas_max  Pas_std      Wa_c_avg  Wa_c_min  Wa_c_max  Wa_c_std  \\\n",
       "count    ...         0.0      0.0  24023.000000       0.0       0.0       0.0   \n",
       "mean     ...         NaN      NaN    178.370313       NaN       NaN       NaN   \n",
       "std      ...         NaN      NaN     95.777425       NaN       NaN       NaN   \n",
       "min      ...         NaN      NaN      0.000000       NaN       NaN       NaN   \n",
       "25%      ...         NaN      NaN     86.075001       NaN       NaN       NaN   \n",
       "50%      ...         NaN      NaN    195.190000       NaN       NaN       NaN   \n",
       "75%      ...         NaN      NaN    248.300000       NaN       NaN       NaN   \n",
       "max      ...         NaN      NaN    359.950010       NaN       NaN       NaN   \n",
       "\n",
       "           Na_c_avg  Na_c_min  Na_c_max  Na_c_std  \n",
       "count  24023.000000       0.0       0.0       0.0  \n",
       "mean     179.284643       NaN       NaN       NaN  \n",
       "std       95.969775       NaN       NaN       NaN  \n",
       "min        0.080000       NaN       NaN       NaN  \n",
       "25%       86.779999       NaN       NaN       NaN  \n",
       "50%      196.710010       NaN       NaN       NaN  \n",
       "75%      250.050000       NaN       NaN       NaN  \n",
       "max      359.950010       NaN       NaN       NaN  \n",
       "\n",
       "[8 rows x 137 columns]"
      ]
     },
     "execution_count": 100,
     "metadata": {},
     "output_type": "execute_result"
    }
   ],
   "source": [
    "wind_data.describe()"
   ]
  },
  {
   "cell_type": "code",
   "execution_count": 101,
   "metadata": {},
   "outputs": [
    {
     "data": {
      "text/plain": [
       "Unnamed: 0               0\n",
       "Wind_turbine_name        0\n",
       "Date_time                0\n",
       "Ba_avg                 137\n",
       "Ba_min                 137\n",
       "Ba_max                 137\n",
       "Ba_std                 137\n",
       "Rt_avg                 137\n",
       "Rt_min                 137\n",
       "Rt_max                 137\n",
       "Rt_std                 137\n",
       "DCs_avg                137\n",
       "DCs_min                137\n",
       "DCs_max                137\n",
       "DCs_std                137\n",
       "Cm_avg                 137\n",
       "Cm_min                 137\n",
       "Cm_max                 137\n",
       "Cm_std                 137\n",
       "P_avg                  137\n",
       "P_min                  137\n",
       "P_max                  137\n",
       "P_std                  137\n",
       "Q_avg                  137\n",
       "Q_min                  137\n",
       "Q_max                  137\n",
       "Q_std                  137\n",
       "S_avg                  137\n",
       "S_min                  137\n",
       "S_max                  137\n",
       "                     ...  \n",
       "Nf_max                 137\n",
       "Nf_std                 137\n",
       "Nu_avg                 137\n",
       "Nu_min                 137\n",
       "Nu_max                 137\n",
       "Nu_std                 137\n",
       "Rs_avg                 137\n",
       "Rs_min                 137\n",
       "Rs_max                 137\n",
       "Rs_std                 137\n",
       "Rbt_avg                137\n",
       "Rbt_min                137\n",
       "Rbt_max                137\n",
       "Rbt_std                137\n",
       "Rm_avg                 137\n",
       "Rm_min                 137\n",
       "Rm_max                 137\n",
       "Rm_std                 137\n",
       "Pas_avg              25000\n",
       "Pas_min              25000\n",
       "Pas_max              25000\n",
       "Pas_std              25000\n",
       "Wa_c_avg               977\n",
       "Wa_c_min             25000\n",
       "Wa_c_max             25000\n",
       "Wa_c_std             25000\n",
       "Na_c_avg               977\n",
       "Na_c_min             25000\n",
       "Na_c_max             25000\n",
       "Na_c_std             25000\n",
       "Length: 139, dtype: int64"
      ]
     },
     "execution_count": 101,
     "metadata": {},
     "output_type": "execute_result"
    }
   ],
   "source": [
    "wind_data.isnull().sum(axis=0) "
   ]
  },
  {
   "cell_type": "code",
   "execution_count": 102,
   "metadata": {},
   "outputs": [
    {
     "data": {
      "text/html": [
       "<div>\n",
       "<style scoped>\n",
       "    .dataframe tbody tr th:only-of-type {\n",
       "        vertical-align: middle;\n",
       "    }\n",
       "\n",
       "    .dataframe tbody tr th {\n",
       "        vertical-align: top;\n",
       "    }\n",
       "\n",
       "    .dataframe thead th {\n",
       "        text-align: right;\n",
       "    }\n",
       "</style>\n",
       "<table border=\"1\" class=\"dataframe\">\n",
       "  <thead>\n",
       "    <tr style=\"text-align: right;\">\n",
       "      <th></th>\n",
       "      <th>Unnamed: 0</th>\n",
       "      <th>Wind_turbine_name</th>\n",
       "      <th>Date_time</th>\n",
       "      <th>Ba_avg</th>\n",
       "      <th>Ba_min</th>\n",
       "      <th>Ba_max</th>\n",
       "      <th>Ba_std</th>\n",
       "      <th>Rt_avg</th>\n",
       "      <th>Rt_min</th>\n",
       "      <th>Rt_max</th>\n",
       "      <th>...</th>\n",
       "      <th>Pas_max</th>\n",
       "      <th>Pas_std</th>\n",
       "      <th>Wa_c_avg</th>\n",
       "      <th>Wa_c_min</th>\n",
       "      <th>Wa_c_max</th>\n",
       "      <th>Wa_c_std</th>\n",
       "      <th>Na_c_avg</th>\n",
       "      <th>Na_c_min</th>\n",
       "      <th>Na_c_max</th>\n",
       "      <th>Na_c_std</th>\n",
       "    </tr>\n",
       "  </thead>\n",
       "  <tbody>\n",
       "    <tr>\n",
       "      <th>24995</th>\n",
       "      <td>343924</td>\n",
       "      <td>R80711</td>\n",
       "      <td>2014-11-13 19:50:00</td>\n",
       "      <td>-0.99</td>\n",
       "      <td>-0.99</td>\n",
       "      <td>-0.99</td>\n",
       "      <td>0.00</td>\n",
       "      <td>16.00</td>\n",
       "      <td>16.0</td>\n",
       "      <td>16.00</td>\n",
       "      <td>...</td>\n",
       "      <td>0.0</td>\n",
       "      <td>0.0</td>\n",
       "      <td>112.330000</td>\n",
       "      <td>0.0</td>\n",
       "      <td>0.0</td>\n",
       "      <td>0.0</td>\n",
       "      <td>94.220001</td>\n",
       "      <td>0.0</td>\n",
       "      <td>0.0</td>\n",
       "      <td>0.0</td>\n",
       "    </tr>\n",
       "    <tr>\n",
       "      <th>24996</th>\n",
       "      <td>256691</td>\n",
       "      <td>R80790</td>\n",
       "      <td>2013-12-20 00:30:00</td>\n",
       "      <td>-0.95</td>\n",
       "      <td>-0.95</td>\n",
       "      <td>-0.94</td>\n",
       "      <td>0.00</td>\n",
       "      <td>15.51</td>\n",
       "      <td>15.0</td>\n",
       "      <td>16.00</td>\n",
       "      <td>...</td>\n",
       "      <td>0.0</td>\n",
       "      <td>0.0</td>\n",
       "      <td>224.250000</td>\n",
       "      <td>0.0</td>\n",
       "      <td>0.0</td>\n",
       "      <td>0.0</td>\n",
       "      <td>223.980000</td>\n",
       "      <td>0.0</td>\n",
       "      <td>0.0</td>\n",
       "      <td>0.0</td>\n",
       "    </tr>\n",
       "    <tr>\n",
       "      <th>24997</th>\n",
       "      <td>545539</td>\n",
       "      <td>R80711</td>\n",
       "      <td>2016-06-20 20:30:00</td>\n",
       "      <td>-0.99</td>\n",
       "      <td>-0.99</td>\n",
       "      <td>-0.99</td>\n",
       "      <td>0.00</td>\n",
       "      <td>22.00</td>\n",
       "      <td>22.0</td>\n",
       "      <td>22.24</td>\n",
       "      <td>...</td>\n",
       "      <td>0.0</td>\n",
       "      <td>0.0</td>\n",
       "      <td>234.160000</td>\n",
       "      <td>0.0</td>\n",
       "      <td>0.0</td>\n",
       "      <td>0.0</td>\n",
       "      <td>234.160000</td>\n",
       "      <td>0.0</td>\n",
       "      <td>0.0</td>\n",
       "      <td>0.0</td>\n",
       "    </tr>\n",
       "    <tr>\n",
       "      <th>24998</th>\n",
       "      <td>452358</td>\n",
       "      <td>R80736</td>\n",
       "      <td>2014-10-21 13:50:00</td>\n",
       "      <td>2.62</td>\n",
       "      <td>-0.99</td>\n",
       "      <td>13.42</td>\n",
       "      <td>3.82</td>\n",
       "      <td>22.00</td>\n",
       "      <td>22.0</td>\n",
       "      <td>22.00</td>\n",
       "      <td>...</td>\n",
       "      <td>0.0</td>\n",
       "      <td>0.0</td>\n",
       "      <td>275.239990</td>\n",
       "      <td>0.0</td>\n",
       "      <td>0.0</td>\n",
       "      <td>0.0</td>\n",
       "      <td>277.929990</td>\n",
       "      <td>0.0</td>\n",
       "      <td>0.0</td>\n",
       "      <td>0.0</td>\n",
       "    </tr>\n",
       "    <tr>\n",
       "      <th>24999</th>\n",
       "      <td>563047</td>\n",
       "      <td>R80790</td>\n",
       "      <td>2016-10-14 06:20:00</td>\n",
       "      <td>-0.82</td>\n",
       "      <td>-1.00</td>\n",
       "      <td>0.00</td>\n",
       "      <td>0.32</td>\n",
       "      <td>15.02</td>\n",
       "      <td>15.0</td>\n",
       "      <td>15.78</td>\n",
       "      <td>...</td>\n",
       "      <td>0.0</td>\n",
       "      <td>0.0</td>\n",
       "      <td>73.760002</td>\n",
       "      <td>0.0</td>\n",
       "      <td>0.0</td>\n",
       "      <td>0.0</td>\n",
       "      <td>73.760002</td>\n",
       "      <td>0.0</td>\n",
       "      <td>0.0</td>\n",
       "      <td>0.0</td>\n",
       "    </tr>\n",
       "  </tbody>\n",
       "</table>\n",
       "<p>5 rows × 139 columns</p>\n",
       "</div>"
      ],
      "text/plain": [
       "       Unnamed: 0 Wind_turbine_name           Date_time  Ba_avg  Ba_min  \\\n",
       "24995      343924            R80711 2014-11-13 19:50:00   -0.99   -0.99   \n",
       "24996      256691            R80790 2013-12-20 00:30:00   -0.95   -0.95   \n",
       "24997      545539            R80711 2016-06-20 20:30:00   -0.99   -0.99   \n",
       "24998      452358            R80736 2014-10-21 13:50:00    2.62   -0.99   \n",
       "24999      563047            R80790 2016-10-14 06:20:00   -0.82   -1.00   \n",
       "\n",
       "       Ba_max  Ba_std  Rt_avg  Rt_min  Rt_max    ...     Pas_max  Pas_std  \\\n",
       "24995   -0.99    0.00   16.00    16.0   16.00    ...         0.0      0.0   \n",
       "24996   -0.94    0.00   15.51    15.0   16.00    ...         0.0      0.0   \n",
       "24997   -0.99    0.00   22.00    22.0   22.24    ...         0.0      0.0   \n",
       "24998   13.42    3.82   22.00    22.0   22.00    ...         0.0      0.0   \n",
       "24999    0.00    0.32   15.02    15.0   15.78    ...         0.0      0.0   \n",
       "\n",
       "         Wa_c_avg  Wa_c_min  Wa_c_max  Wa_c_std    Na_c_avg  Na_c_min  \\\n",
       "24995  112.330000       0.0       0.0       0.0   94.220001       0.0   \n",
       "24996  224.250000       0.0       0.0       0.0  223.980000       0.0   \n",
       "24997  234.160000       0.0       0.0       0.0  234.160000       0.0   \n",
       "24998  275.239990       0.0       0.0       0.0  277.929990       0.0   \n",
       "24999   73.760002       0.0       0.0       0.0   73.760002       0.0   \n",
       "\n",
       "       Na_c_max  Na_c_std  \n",
       "24995       0.0       0.0  \n",
       "24996       0.0       0.0  \n",
       "24997       0.0       0.0  \n",
       "24998       0.0       0.0  \n",
       "24999       0.0       0.0  \n",
       "\n",
       "[5 rows x 139 columns]"
      ]
     },
     "execution_count": 102,
     "metadata": {},
     "output_type": "execute_result"
    }
   ],
   "source": [
    "#imputting missing values with the zero value \n",
    "wind_data_clean = wind_data.fillna(0)\n",
    "wind_data_clean.tail()\n"
   ]
  },
  {
   "cell_type": "code",
   "execution_count": 103,
   "metadata": {},
   "outputs": [
    {
     "data": {
      "text/plain": [
       "Unnamed: 0           0\n",
       "Wind_turbine_name    0\n",
       "Date_time            0\n",
       "Ba_avg               0\n",
       "Ba_min               0\n",
       "Ba_max               0\n",
       "Ba_std               0\n",
       "Rt_avg               0\n",
       "Rt_min               0\n",
       "Rt_max               0\n",
       "Rt_std               0\n",
       "DCs_avg              0\n",
       "DCs_min              0\n",
       "DCs_max              0\n",
       "DCs_std              0\n",
       "Cm_avg               0\n",
       "Cm_min               0\n",
       "Cm_max               0\n",
       "Cm_std               0\n",
       "P_avg                0\n",
       "P_min                0\n",
       "P_max                0\n",
       "P_std                0\n",
       "Q_avg                0\n",
       "Q_min                0\n",
       "Q_max                0\n",
       "Q_std                0\n",
       "S_avg                0\n",
       "S_min                0\n",
       "S_max                0\n",
       "                    ..\n",
       "Nf_max               0\n",
       "Nf_std               0\n",
       "Nu_avg               0\n",
       "Nu_min               0\n",
       "Nu_max               0\n",
       "Nu_std               0\n",
       "Rs_avg               0\n",
       "Rs_min               0\n",
       "Rs_max               0\n",
       "Rs_std               0\n",
       "Rbt_avg              0\n",
       "Rbt_min              0\n",
       "Rbt_max              0\n",
       "Rbt_std              0\n",
       "Rm_avg               0\n",
       "Rm_min               0\n",
       "Rm_max               0\n",
       "Rm_std               0\n",
       "Pas_avg              0\n",
       "Pas_min              0\n",
       "Pas_max              0\n",
       "Pas_std              0\n",
       "Wa_c_avg             0\n",
       "Wa_c_min             0\n",
       "Wa_c_max             0\n",
       "Wa_c_std             0\n",
       "Na_c_avg             0\n",
       "Na_c_min             0\n",
       "Na_c_max             0\n",
       "Na_c_std             0\n",
       "Length: 139, dtype: int64"
      ]
     },
     "execution_count": 103,
     "metadata": {},
     "output_type": "execute_result"
    }
   ],
   "source": [
    "wind_data_clean.isnull().sum(axis=0) "
   ]
  },
  {
   "cell_type": "code",
   "execution_count": 104,
   "metadata": {},
   "outputs": [
    {
     "name": "stdout",
     "output_type": "stream",
     "text": [
      "(25000, 139)\n"
     ]
    }
   ],
   "source": [
    "print (wind_data_clean.shape)"
   ]
  },
  {
   "cell_type": "markdown",
   "metadata": {},
   "source": [
    "Because we are investigating power output, the active power feature is given by the following features in  the dataset: `P_avg, P_min, P_max, P_std`. Decide on which active power feature to use (hint: perhaps the average or maximum would be a good place to start). Begin by using the function `groupby` to determine how many turbines there are in the dataset. The dataset is huge, so in order to visualize trends in power output, a simpler way would be to look at monthly trends in the data."
   ]
  },
  {
   "cell_type": "code",
   "execution_count": 105,
   "metadata": {},
   "outputs": [
    {
     "data": {
      "text/html": [
       "<div>\n",
       "<style scoped>\n",
       "    .dataframe tbody tr th:only-of-type {\n",
       "        vertical-align: middle;\n",
       "    }\n",
       "\n",
       "    .dataframe tbody tr th {\n",
       "        vertical-align: top;\n",
       "    }\n",
       "\n",
       "    .dataframe thead th {\n",
       "        text-align: right;\n",
       "    }\n",
       "</style>\n",
       "<table border=\"1\" class=\"dataframe\">\n",
       "  <thead>\n",
       "    <tr style=\"text-align: right;\">\n",
       "      <th></th>\n",
       "      <th>Unnamed: 0</th>\n",
       "      <th>Ba_avg</th>\n",
       "      <th>Ba_min</th>\n",
       "      <th>Ba_max</th>\n",
       "      <th>Ba_std</th>\n",
       "      <th>Rt_avg</th>\n",
       "      <th>Rt_min</th>\n",
       "      <th>Rt_max</th>\n",
       "      <th>Rt_std</th>\n",
       "      <th>DCs_avg</th>\n",
       "      <th>...</th>\n",
       "      <th>Pas_max</th>\n",
       "      <th>Pas_std</th>\n",
       "      <th>Wa_c_avg</th>\n",
       "      <th>Wa_c_min</th>\n",
       "      <th>Wa_c_max</th>\n",
       "      <th>Wa_c_std</th>\n",
       "      <th>Na_c_avg</th>\n",
       "      <th>Na_c_min</th>\n",
       "      <th>Na_c_max</th>\n",
       "      <th>Na_c_std</th>\n",
       "    </tr>\n",
       "    <tr>\n",
       "      <th>Wind_turbine_name</th>\n",
       "      <th></th>\n",
       "      <th></th>\n",
       "      <th></th>\n",
       "      <th></th>\n",
       "      <th></th>\n",
       "      <th></th>\n",
       "      <th></th>\n",
       "      <th></th>\n",
       "      <th></th>\n",
       "      <th></th>\n",
       "      <th></th>\n",
       "      <th></th>\n",
       "      <th></th>\n",
       "      <th></th>\n",
       "      <th></th>\n",
       "      <th></th>\n",
       "      <th></th>\n",
       "      <th></th>\n",
       "      <th></th>\n",
       "      <th></th>\n",
       "      <th></th>\n",
       "    </tr>\n",
       "  </thead>\n",
       "  <tbody>\n",
       "    <tr>\n",
       "      <th>R80711</th>\n",
       "      <td>288751.011725</td>\n",
       "      <td>9.564900</td>\n",
       "      <td>8.458262</td>\n",
       "      <td>11.076237</td>\n",
       "      <td>0.875389</td>\n",
       "      <td>18.107070</td>\n",
       "      <td>17.940922</td>\n",
       "      <td>18.276091</td>\n",
       "      <td>0.084505</td>\n",
       "      <td>1157.775492</td>\n",
       "      <td>...</td>\n",
       "      <td>0.0</td>\n",
       "      <td>0.0</td>\n",
       "      <td>171.408667</td>\n",
       "      <td>0.0</td>\n",
       "      <td>0.0</td>\n",
       "      <td>0.0</td>\n",
       "      <td>171.788413</td>\n",
       "      <td>0.0</td>\n",
       "      <td>0.0</td>\n",
       "      <td>0.0</td>\n",
       "    </tr>\n",
       "    <tr>\n",
       "      <th>R80721</th>\n",
       "      <td>403385.883331</td>\n",
       "      <td>10.589124</td>\n",
       "      <td>9.372305</td>\n",
       "      <td>12.132818</td>\n",
       "      <td>0.955923</td>\n",
       "      <td>20.421272</td>\n",
       "      <td>20.214032</td>\n",
       "      <td>20.610209</td>\n",
       "      <td>0.099174</td>\n",
       "      <td>1067.149327</td>\n",
       "      <td>...</td>\n",
       "      <td>0.0</td>\n",
       "      <td>0.0</td>\n",
       "      <td>169.342361</td>\n",
       "      <td>0.0</td>\n",
       "      <td>0.0</td>\n",
       "      <td>0.0</td>\n",
       "      <td>170.037433</td>\n",
       "      <td>0.0</td>\n",
       "      <td>0.0</td>\n",
       "      <td>0.0</td>\n",
       "    </tr>\n",
       "    <tr>\n",
       "      <th>R80736</th>\n",
       "      <td>508117.399456</td>\n",
       "      <td>10.664115</td>\n",
       "      <td>9.498149</td>\n",
       "      <td>12.120208</td>\n",
       "      <td>0.882334</td>\n",
       "      <td>19.273847</td>\n",
       "      <td>19.005123</td>\n",
       "      <td>19.650690</td>\n",
       "      <td>0.167949</td>\n",
       "      <td>1080.325400</td>\n",
       "      <td>...</td>\n",
       "      <td>0.0</td>\n",
       "      <td>0.0</td>\n",
       "      <td>172.718300</td>\n",
       "      <td>0.0</td>\n",
       "      <td>0.0</td>\n",
       "      <td>0.0</td>\n",
       "      <td>173.936279</td>\n",
       "      <td>0.0</td>\n",
       "      <td>0.0</td>\n",
       "      <td>0.0</td>\n",
       "    </tr>\n",
       "    <tr>\n",
       "      <th>R80790</th>\n",
       "      <td>481871.198692</td>\n",
       "      <td>24.460166</td>\n",
       "      <td>23.577484</td>\n",
       "      <td>25.744376</td>\n",
       "      <td>0.711874</td>\n",
       "      <td>19.033377</td>\n",
       "      <td>18.903703</td>\n",
       "      <td>19.172124</td>\n",
       "      <td>0.069783</td>\n",
       "      <td>893.671952</td>\n",
       "      <td>...</td>\n",
       "      <td>0.0</td>\n",
       "      <td>0.0</td>\n",
       "      <td>172.129807</td>\n",
       "      <td>0.0</td>\n",
       "      <td>0.0</td>\n",
       "      <td>0.0</td>\n",
       "      <td>173.348766</td>\n",
       "      <td>0.0</td>\n",
       "      <td>0.0</td>\n",
       "      <td>0.0</td>\n",
       "    </tr>\n",
       "  </tbody>\n",
       "</table>\n",
       "<p>4 rows × 137 columns</p>\n",
       "</div>"
      ],
      "text/plain": [
       "                      Unnamed: 0     Ba_avg     Ba_min     Ba_max    Ba_std  \\\n",
       "Wind_turbine_name                                                             \n",
       "R80711             288751.011725   9.564900   8.458262  11.076237  0.875389   \n",
       "R80721             403385.883331  10.589124   9.372305  12.132818  0.955923   \n",
       "R80736             508117.399456  10.664115   9.498149  12.120208  0.882334   \n",
       "R80790             481871.198692  24.460166  23.577484  25.744376  0.711874   \n",
       "\n",
       "                      Rt_avg     Rt_min     Rt_max    Rt_std      DCs_avg  \\\n",
       "Wind_turbine_name                                                           \n",
       "R80711             18.107070  17.940922  18.276091  0.084505  1157.775492   \n",
       "R80721             20.421272  20.214032  20.610209  0.099174  1067.149327   \n",
       "R80736             19.273847  19.005123  19.650690  0.167949  1080.325400   \n",
       "R80790             19.033377  18.903703  19.172124  0.069783   893.671952   \n",
       "\n",
       "                     ...     Pas_max  Pas_std    Wa_c_avg  Wa_c_min  Wa_c_max  \\\n",
       "Wind_turbine_name    ...                                                        \n",
       "R80711               ...         0.0      0.0  171.408667       0.0       0.0   \n",
       "R80721               ...         0.0      0.0  169.342361       0.0       0.0   \n",
       "R80736               ...         0.0      0.0  172.718300       0.0       0.0   \n",
       "R80790               ...         0.0      0.0  172.129807       0.0       0.0   \n",
       "\n",
       "                   Wa_c_std    Na_c_avg  Na_c_min  Na_c_max  Na_c_std  \n",
       "Wind_turbine_name                                                      \n",
       "R80711                  0.0  171.788413       0.0       0.0       0.0  \n",
       "R80721                  0.0  170.037433       0.0       0.0       0.0  \n",
       "R80736                  0.0  173.936279       0.0       0.0       0.0  \n",
       "R80790                  0.0  173.348766       0.0       0.0       0.0  \n",
       "\n",
       "[4 rows x 137 columns]"
      ]
     },
     "execution_count": 105,
     "metadata": {},
     "output_type": "execute_result"
    }
   ],
   "source": [
    "wind_data_clean.groupby(['Wind_turbine_name']).mean()\n"
   ]
  },
  {
   "cell_type": "markdown",
   "metadata": {},
   "source": [
    "There is a wind turbine with `Wind_turbine_name` R80711. Use this column and determine the trend for the month of January."
   ]
  },
  {
   "cell_type": "code",
   "execution_count": 106,
   "metadata": {},
   "outputs": [
    {
     "data": {
      "text/plain": [
       "Wind_turbine_name  Date_time          \n",
       "R80711             2013-01-01 00:40:00    1062.010000\n",
       "                   2013-01-01 01:00:00    1199.260000\n",
       "                   2013-01-01 02:40:00    1217.550000\n",
       "                   2013-01-01 07:10:00    1471.630000\n",
       "                   2013-01-01 10:20:00     994.679990\n",
       "                   2013-01-01 15:10:00     378.149990\n",
       "                   2013-01-02 07:30:00      92.199997\n",
       "                   2013-01-02 13:30:00      -1.190000\n",
       "                   2013-01-03 06:50:00     865.109990\n",
       "                   2013-01-03 08:00:00     485.149990\n",
       "                   2013-01-03 11:50:00     426.570010\n",
       "                   2013-01-03 14:40:00     220.590000\n",
       "                   2013-01-03 21:40:00     348.350010\n",
       "                   2013-01-04 08:40:00     598.590030\n",
       "                   2013-01-04 22:50:00     125.580000\n",
       "                   2013-01-04 23:50:00     153.030000\n",
       "                   2013-01-05 00:00:00     226.050000\n",
       "                   2013-01-05 01:40:00     170.530000\n",
       "                   2013-01-05 02:40:00     163.509990\n",
       "                   2013-01-05 11:50:00      78.910004\n",
       "                   2013-01-05 15:50:00      -0.190000\n",
       "                   2013-01-06 00:50:00      26.629999\n",
       "                   2013-01-06 06:20:00      33.740002\n",
       "                   2013-01-06 23:30:00      -1.140000\n",
       "                   2013-01-07 01:40:00      42.080002\n",
       "                   2013-01-07 10:00:00      74.589996\n",
       "                   2013-01-07 10:40:00      24.830000\n",
       "                   2013-01-08 01:20:00      -0.900000\n",
       "                   2013-01-08 02:40:00      17.230000\n",
       "                   2013-01-08 07:50:00      -1.790000\n",
       "                                             ...     \n",
       "R80790             2016-12-24 18:50:00     450.989990\n",
       "                   2016-12-25 00:30:00     296.149990\n",
       "                   2016-12-25 11:50:00     486.660000\n",
       "                   2016-12-25 20:10:00     358.230010\n",
       "                   2016-12-25 20:20:00     467.370000\n",
       "                   2016-12-25 22:20:00     273.320010\n",
       "                   2016-12-26 02:30:00     488.829990\n",
       "                   2016-12-26 03:00:00     572.440000\n",
       "                   2016-12-26 13:10:00     329.070010\n",
       "                   2016-12-26 13:30:00     291.149990\n",
       "                   2016-12-26 17:20:00      74.050003\n",
       "                   2016-12-26 17:40:00      53.439999\n",
       "                   2016-12-27 05:20:00     210.350010\n",
       "                   2016-12-27 05:50:00     115.300000\n",
       "                   2016-12-27 16:40:00     176.620000\n",
       "                   2016-12-27 21:50:00     556.169980\n",
       "                   2016-12-28 09:00:00     508.810000\n",
       "                   2016-12-28 19:50:00     713.109990\n",
       "                   2016-12-29 03:00:00     523.120000\n",
       "                   2016-12-29 05:40:00     670.010010\n",
       "                   2016-12-30 00:30:00      -1.310000\n",
       "                   2016-12-30 07:10:00      -2.220000\n",
       "                   2016-12-30 09:00:00      -3.680000\n",
       "                   2016-12-30 16:20:00      -1.050000\n",
       "                   2016-12-30 16:40:00      -2.000000\n",
       "                   2016-12-30 19:30:00      -1.210000\n",
       "                   2016-12-30 20:10:00      -2.300000\n",
       "                   2016-12-31 01:40:00       9.280000\n",
       "                   2016-12-31 02:20:00      -0.320000\n",
       "                   2016-12-31 20:10:00      24.469999\n",
       "Name: P_avg, Length: 25000, dtype: float64"
      ]
     },
     "execution_count": 106,
     "metadata": {},
     "output_type": "execute_result"
    }
   ],
   "source": [
    "wind_data_date = wind_data_clean.groupby(['Wind_turbine_name',\"Date_time\"]).mean()\n",
    "wind_data_date[\"P_avg\"]"
   ]
  },
  {
   "cell_type": "code",
   "execution_count": 127,
   "metadata": {},
   "outputs": [
    {
     "name": "stdout",
     "output_type": "stream",
     "text": [
      "2013-01-01 00:40:00 2013-01-31 00:40:00\n"
     ]
    }
   ],
   "source": [
    "import datetime as dt\n",
    "range_min = wind_data_clean['Date_time'].min()\n",
    "range_max = range_min + dt.timedelta(days=30)\n",
    "print(range_min, range_max)"
   ]
  },
  {
   "cell_type": "code",
   "execution_count": 128,
   "metadata": {},
   "outputs": [],
   "source": [
    "# Extracting the readings for January \n",
    "\n",
    "jan_reading = wind_data.loc[(range_min < wind_data['Date_time']) & (range_max > wind_data['Date_time'])].sort_values((['Wind_turbine_name', 'Date_time']))"
   ]
  },
  {
   "cell_type": "code",
   "execution_count": 129,
   "metadata": {},
   "outputs": [
    {
     "data": {
      "text/html": [
       "<div>\n",
       "<style scoped>\n",
       "    .dataframe tbody tr th:only-of-type {\n",
       "        vertical-align: middle;\n",
       "    }\n",
       "\n",
       "    .dataframe tbody tr th {\n",
       "        vertical-align: top;\n",
       "    }\n",
       "\n",
       "    .dataframe thead th {\n",
       "        text-align: right;\n",
       "    }\n",
       "</style>\n",
       "<table border=\"1\" class=\"dataframe\">\n",
       "  <thead>\n",
       "    <tr style=\"text-align: right;\">\n",
       "      <th></th>\n",
       "      <th>Unnamed: 0</th>\n",
       "      <th>Wind_turbine_name</th>\n",
       "      <th>Date_time</th>\n",
       "      <th>Ba_avg</th>\n",
       "      <th>Ba_min</th>\n",
       "      <th>Ba_max</th>\n",
       "      <th>Ba_std</th>\n",
       "      <th>Rt_avg</th>\n",
       "      <th>Rt_min</th>\n",
       "      <th>Rt_max</th>\n",
       "      <th>...</th>\n",
       "      <th>Pas_max</th>\n",
       "      <th>Pas_std</th>\n",
       "      <th>Wa_c_avg</th>\n",
       "      <th>Wa_c_min</th>\n",
       "      <th>Wa_c_max</th>\n",
       "      <th>Wa_c_std</th>\n",
       "      <th>Na_c_avg</th>\n",
       "      <th>Na_c_min</th>\n",
       "      <th>Na_c_max</th>\n",
       "      <th>Na_c_std</th>\n",
       "    </tr>\n",
       "  </thead>\n",
       "  <tbody>\n",
       "    <tr>\n",
       "      <th>4274</th>\n",
       "      <td>333007</td>\n",
       "      <td>R80711</td>\n",
       "      <td>2013-01-01 01:00:00</td>\n",
       "      <td>-1.00</td>\n",
       "      <td>-1.0</td>\n",
       "      <td>-1.00</td>\n",
       "      <td>0.00</td>\n",
       "      <td>12.17</td>\n",
       "      <td>12.0</td>\n",
       "      <td>13.00</td>\n",
       "      <td>...</td>\n",
       "      <td>NaN</td>\n",
       "      <td>NaN</td>\n",
       "      <td>188.81</td>\n",
       "      <td>NaN</td>\n",
       "      <td>NaN</td>\n",
       "      <td>NaN</td>\n",
       "      <td>192.89999</td>\n",
       "      <td>NaN</td>\n",
       "      <td>NaN</td>\n",
       "      <td>NaN</td>\n",
       "    </tr>\n",
       "    <tr>\n",
       "      <th>5465</th>\n",
       "      <td>304915</td>\n",
       "      <td>R80711</td>\n",
       "      <td>2013-01-01 02:40:00</td>\n",
       "      <td>-0.97</td>\n",
       "      <td>-1.0</td>\n",
       "      <td>0.14</td>\n",
       "      <td>0.12</td>\n",
       "      <td>12.01</td>\n",
       "      <td>12.0</td>\n",
       "      <td>12.62</td>\n",
       "      <td>...</td>\n",
       "      <td>NaN</td>\n",
       "      <td>NaN</td>\n",
       "      <td>191.23</td>\n",
       "      <td>NaN</td>\n",
       "      <td>NaN</td>\n",
       "      <td>NaN</td>\n",
       "      <td>192.89999</td>\n",
       "      <td>NaN</td>\n",
       "      <td>NaN</td>\n",
       "      <td>NaN</td>\n",
       "    </tr>\n",
       "    <tr>\n",
       "      <th>5335</th>\n",
       "      <td>183314</td>\n",
       "      <td>R80711</td>\n",
       "      <td>2013-01-01 07:10:00</td>\n",
       "      <td>-0.56</td>\n",
       "      <td>-1.0</td>\n",
       "      <td>4.27</td>\n",
       "      <td>0.77</td>\n",
       "      <td>13.21</td>\n",
       "      <td>13.0</td>\n",
       "      <td>14.00</td>\n",
       "      <td>...</td>\n",
       "      <td>NaN</td>\n",
       "      <td>NaN</td>\n",
       "      <td>194.47</td>\n",
       "      <td>NaN</td>\n",
       "      <td>NaN</td>\n",
       "      <td>NaN</td>\n",
       "      <td>192.89999</td>\n",
       "      <td>NaN</td>\n",
       "      <td>NaN</td>\n",
       "      <td>NaN</td>\n",
       "    </tr>\n",
       "    <tr>\n",
       "      <th>22638</th>\n",
       "      <td>304900</td>\n",
       "      <td>R80711</td>\n",
       "      <td>2013-01-01 10:20:00</td>\n",
       "      <td>-1.00</td>\n",
       "      <td>-1.0</td>\n",
       "      <td>-1.00</td>\n",
       "      <td>0.00</td>\n",
       "      <td>12.90</td>\n",
       "      <td>12.0</td>\n",
       "      <td>13.00</td>\n",
       "      <td>...</td>\n",
       "      <td>NaN</td>\n",
       "      <td>NaN</td>\n",
       "      <td>216.41</td>\n",
       "      <td>NaN</td>\n",
       "      <td>NaN</td>\n",
       "      <td>NaN</td>\n",
       "      <td>211.50999</td>\n",
       "      <td>NaN</td>\n",
       "      <td>NaN</td>\n",
       "      <td>NaN</td>\n",
       "    </tr>\n",
       "    <tr>\n",
       "      <th>8823</th>\n",
       "      <td>811433</td>\n",
       "      <td>R80711</td>\n",
       "      <td>2013-01-01 15:10:00</td>\n",
       "      <td>-1.00</td>\n",
       "      <td>-1.0</td>\n",
       "      <td>-1.00</td>\n",
       "      <td>0.00</td>\n",
       "      <td>12.01</td>\n",
       "      <td>12.0</td>\n",
       "      <td>12.96</td>\n",
       "      <td>...</td>\n",
       "      <td>NaN</td>\n",
       "      <td>NaN</td>\n",
       "      <td>254.94</td>\n",
       "      <td>NaN</td>\n",
       "      <td>NaN</td>\n",
       "      <td>NaN</td>\n",
       "      <td>264.66998</td>\n",
       "      <td>NaN</td>\n",
       "      <td>NaN</td>\n",
       "      <td>NaN</td>\n",
       "    </tr>\n",
       "  </tbody>\n",
       "</table>\n",
       "<p>5 rows × 139 columns</p>\n",
       "</div>"
      ],
      "text/plain": [
       "       Unnamed: 0 Wind_turbine_name           Date_time  Ba_avg  Ba_min  \\\n",
       "4274       333007            R80711 2013-01-01 01:00:00   -1.00    -1.0   \n",
       "5465       304915            R80711 2013-01-01 02:40:00   -0.97    -1.0   \n",
       "5335       183314            R80711 2013-01-01 07:10:00   -0.56    -1.0   \n",
       "22638      304900            R80711 2013-01-01 10:20:00   -1.00    -1.0   \n",
       "8823       811433            R80711 2013-01-01 15:10:00   -1.00    -1.0   \n",
       "\n",
       "       Ba_max  Ba_std  Rt_avg  Rt_min  Rt_max    ...     Pas_max  Pas_std  \\\n",
       "4274    -1.00    0.00   12.17    12.0   13.00    ...         NaN      NaN   \n",
       "5465     0.14    0.12   12.01    12.0   12.62    ...         NaN      NaN   \n",
       "5335     4.27    0.77   13.21    13.0   14.00    ...         NaN      NaN   \n",
       "22638   -1.00    0.00   12.90    12.0   13.00    ...         NaN      NaN   \n",
       "8823    -1.00    0.00   12.01    12.0   12.96    ...         NaN      NaN   \n",
       "\n",
       "       Wa_c_avg  Wa_c_min  Wa_c_max  Wa_c_std   Na_c_avg  Na_c_min  Na_c_max  \\\n",
       "4274     188.81       NaN       NaN       NaN  192.89999       NaN       NaN   \n",
       "5465     191.23       NaN       NaN       NaN  192.89999       NaN       NaN   \n",
       "5335     194.47       NaN       NaN       NaN  192.89999       NaN       NaN   \n",
       "22638    216.41       NaN       NaN       NaN  211.50999       NaN       NaN   \n",
       "8823     254.94       NaN       NaN       NaN  264.66998       NaN       NaN   \n",
       "\n",
       "       Na_c_std  \n",
       "4274        NaN  \n",
       "5465        NaN  \n",
       "5335        NaN  \n",
       "22638       NaN  \n",
       "8823        NaN  \n",
       "\n",
       "[5 rows x 139 columns]"
      ]
     },
     "execution_count": 129,
     "metadata": {},
     "output_type": "execute_result"
    }
   ],
   "source": [
    "jan_reading.head()"
   ]
  },
  {
   "cell_type": "code",
   "execution_count": 132,
   "metadata": {},
   "outputs": [],
   "source": [
    "# Extracting values for Turbine 80711\n",
    "turbine_R80711 = jan_reading.loc[(jan_reading.Wind_turbine_name == 'R80711'),[\"Date_time\", 'P_avg']]\n"
   ]
  },
  {
   "cell_type": "code",
   "execution_count": 133,
   "metadata": {},
   "outputs": [
    {
     "data": {
      "text/plain": [
       "<matplotlib.axes._subplots.AxesSubplot at 0x1cea9719080>"
      ]
     },
     "execution_count": 133,
     "metadata": {},
     "output_type": "execute_result"
    },
    {
     "data": {
      "image/png": "[encoded data removed]",
      "text/plain": [
       "<Figure size 504x360 with 1 Axes>"
      ]
     },
     "metadata": {
      "needs_background": "light"
     },
     "output_type": "display_data"
    }
   ],
   "source": [
    "turbine_R80711.plot(x='Date_time', y='P_avg', figsize=(7,5))"
   ]
  },
  {
   "cell_type": "markdown",
   "metadata": {},
   "source": [
    "### Find missing values"
   ]
  },
  {
   "cell_type": "markdown",
   "metadata": {},
   "source": [
    "A dataset with missing values will not be usable for fitting and testing a model. Fill in missing values in a way suitable for the model."
   ]
  },
  {
   "cell_type": "code",
   "execution_count": null,
   "metadata": {},
   "outputs": [],
   "source": [
    "#done in line 42"
   ]
  },
  {
   "cell_type": "markdown",
   "metadata": {},
   "source": [
    "### Split dataset into predictor and target matrices"
   ]
  },
  {
   "cell_type": "code",
   "execution_count": 134,
   "metadata": {},
   "outputs": [],
   "source": [
    "# Generate new class attribute. Is P_min + P_max above P_avg? 1= yes / 0 = no\n",
    "wind_data_clean['aboveAVG'] = np.where((wind_data_clean['P_min'] + wind_data_clean['P_max'])>=(wind_data_clean['P_avg']), 1, 0)"
   ]
  },
  {
   "cell_type": "code",
   "execution_count": 136,
   "metadata": {},
   "outputs": [],
   "source": [
    "# Values of target\n",
    "y = wind_data_clean['aboveAVG'].values\n",
    "\n",
    "# Values of attributes\n",
    "wind_data_x = wind_data_clean.drop(['Unnamed: 0','Wind_turbine_name', 'Date_time','P_min', 'P_max', 'P_avg', 'P_std','aboveAVG'], axis=1)\n",
    "X = wind_data_x.values"
   ]
  },
  {
   "cell_type": "code",
   "execution_count": 137,
   "metadata": {},
   "outputs": [
    {
     "data": {
      "text/plain": [
       "132"
      ]
     },
     "execution_count": 137,
     "metadata": {},
     "output_type": "execute_result"
    }
   ],
   "source": [
    "number_features = len(wind_data_x.columns)\n",
    "number_features"
   ]
  },
  {
   "cell_type": "markdown",
   "metadata": {},
   "source": [
    "### Dimension Reduction with PCA"
   ]
  },
  {
   "cell_type": "markdown",
   "metadata": {},
   "source": [
    "The dataset we have it quite huge. We need to select features to use for our analysis of the active power. To discover the principal features, we can principal component analysis. First split the data into predictor and target variables. PCA allows you to reduce the number of you predictors, and to decorrelate them especially for features that have a direct relationship like apparent power, reactive power and active power."
   ]
  },
  {
   "cell_type": "code",
   "execution_count": 138,
   "metadata": {},
   "outputs": [],
   "source": [
    "from sklearn.decomposition import PCA\n",
    "from sklearn import linear_model\n",
    "from sklearn.pipeline import Pipeline\n",
    "from sklearn.model_selection import train_test_split\n",
    "from sklearn.metrics import confusion_matrix, f1_score"
   ]
  },
  {
   "cell_type": "code",
   "execution_count": 139,
   "metadata": {},
   "outputs": [
    {
     "data": {
      "text/plain": [
       "PCA(copy=True, iterated_power='auto', n_components=132, random_state=None,\n",
       "  svd_solver='auto', tol=0.0, whiten=False)"
      ]
     },
     "execution_count": 139,
     "metadata": {},
     "output_type": "execute_result"
    }
   ],
   "source": [
    "# Initializing and fitting\n",
    "pca=PCA(n_components=number_features)\n",
    "pca.fit(X)  "
   ]
  },
  {
   "cell_type": "code",
   "execution_count": 140,
   "metadata": {},
   "outputs": [
    {
     "data": {
      "text/plain": [
       "array([[-0.00242657, -0.00236395, -0.0023579 , ..., -0.        ,\n",
       "        -0.        , -0.        ],\n",
       "       [ 0.00667962,  0.00599586,  0.0076749 , ...,  0.        ,\n",
       "         0.        ,  0.        ],\n",
       "       [ 0.0218457 ,  0.02160377,  0.02214413, ...,  0.        ,\n",
       "         0.        ,  0.        ],\n",
       "       ...,\n",
       "       [ 0.        ,  0.        ,  0.        , ...,  1.        ,\n",
       "         0.        ,  0.        ],\n",
       "       [ 0.        ,  0.        ,  0.        , ...,  0.        ,\n",
       "         1.        ,  0.        ],\n",
       "       [ 0.        ,  0.        ,  0.        , ...,  0.        ,\n",
       "         0.        ,  1.        ]])"
      ]
     },
     "execution_count": 140,
     "metadata": {},
     "output_type": "execute_result"
    }
   ],
   "source": [
    "PCA(copy=True, n_components=None, whiten=False)\n",
    "pca.components_\n",
    "# Evaluating the components"
   ]
  },
  {
   "cell_type": "markdown",
   "metadata": {},
   "source": [
    "### Plot the variance"
   ]
  },
  {
   "cell_type": "code",
   "execution_count": 141,
   "metadata": {},
   "outputs": [
    {
     "data": {
      "text/plain": [
       "array([9.28867433e-01, 3.39639271e-02, 2.05527304e-02, 8.09065593e-03,\n",
       "       3.95833461e-03, 1.39855076e-03, 1.21459000e-03, 3.67771058e-04,\n",
       "       2.59064697e-04, 2.32635310e-04, 1.97233094e-04, 1.69857742e-04,\n",
       "       1.61787201e-04, 1.16878125e-04, 9.35565889e-05, 5.46894518e-05,\n",
       "       4.70364003e-05, 4.35911391e-05, 3.91084043e-05, 2.70649065e-05,\n",
       "       2.67872413e-05, 2.46572802e-05, 1.45707282e-05, 1.11150578e-05,\n",
       "       1.07690445e-05, 1.02781999e-05, 9.88847864e-06, 8.45701070e-06,\n",
       "       4.93127290e-06, 3.91004000e-06, 3.34373997e-06, 2.91745881e-06,\n",
       "       1.93417733e-06, 1.84961495e-06, 1.79094975e-06, 1.01092607e-06,\n",
       "       7.46778688e-07, 6.96575458e-07, 5.24987819e-07, 4.04036793e-07,\n",
       "       3.99999329e-07, 3.25630639e-07, 2.90674667e-07, 2.58094018e-07,\n",
       "       2.53367310e-07, 2.26403177e-07, 2.15610855e-07, 1.83466246e-07,\n",
       "       1.50045960e-07, 1.07585573e-07, 7.00999829e-08, 6.03312407e-08,\n",
       "       5.53634415e-08, 4.89002233e-08, 4.54995853e-08, 4.41466246e-08,\n",
       "       3.90684074e-08, 3.10301472e-08, 2.51380548e-08, 1.35490785e-08,\n",
       "       1.03115336e-08, 7.70396457e-09, 6.34221623e-09, 6.26586381e-09,\n",
       "       5.21183693e-09, 4.89187606e-09, 4.74118272e-09, 4.27705713e-09,\n",
       "       3.74577700e-09, 3.62046407e-09, 2.34890049e-09, 2.21265381e-09,\n",
       "       2.04285463e-09, 1.91465025e-09, 1.80022120e-09, 1.21856687e-09,\n",
       "       1.14536520e-09, 1.00713626e-09, 8.71145937e-10, 7.98247889e-10,\n",
       "       7.81168666e-10, 5.35774406e-10, 4.28201602e-10, 3.07416228e-10,\n",
       "       2.79278969e-10, 2.18045806e-10, 2.06506306e-10, 1.86783884e-10,\n",
       "       1.79075407e-10, 1.60573364e-10, 1.41407026e-10, 1.39789676e-10,\n",
       "       1.33406654e-10, 1.30002222e-10, 8.30747796e-11, 7.45527061e-11,\n",
       "       6.71441523e-11, 5.62239189e-11, 4.53762557e-11, 4.41283836e-11,\n",
       "       3.50676403e-11, 3.33239133e-11, 2.80178296e-11, 2.72980358e-11,\n",
       "       1.91213007e-11, 1.27819017e-11, 1.09123205e-11, 8.39738929e-12,\n",
       "       7.01589137e-12, 6.26973596e-12, 4.15258066e-12, 1.59287516e-12,\n",
       "       9.29225902e-13, 5.59060998e-13, 6.27912890e-33, 6.27912890e-33,\n",
       "       6.27912890e-33, 6.27912890e-33, 6.27912890e-33, 6.27912890e-33,\n",
       "       6.27912890e-33, 6.27912890e-33, 6.27912890e-33, 6.27912890e-33,\n",
       "       6.27912890e-33, 6.27912890e-33, 6.27912890e-33, 6.27912890e-33,\n",
       "       6.27912890e-33, 6.27912890e-33, 6.27912890e-33, 6.27912890e-33])"
      ]
     },
     "execution_count": 141,
     "metadata": {},
     "output_type": "execute_result"
    }
   ],
   "source": [
    "pca.explained_variance_ratio_ # To get how the principal components describe the variance in the data"
   ]
  },
  {
   "cell_type": "code",
   "execution_count": 142,
   "metadata": {},
   "outputs": [
    {
     "data": {
      "text/plain": [
       "array([3.56042933e+07, 1.30186675e+06, 7.87803959e+05, 3.10121850e+05,\n",
       "       1.51726394e+05, 5.36076619e+04, 4.65562868e+04, 1.40969832e+04,\n",
       "       9.93017425e+03, 8.91711295e+03, 7.56011536e+03, 6.51079438e+03,\n",
       "       6.20144354e+03, 4.48003976e+03, 3.58610509e+03, 2.09629406e+03,\n",
       "       1.80294597e+03, 1.67088612e+03, 1.49905901e+03, 1.03742131e+03,\n",
       "       1.02677816e+03, 9.45134908e+02, 5.58508635e+02, 4.26049793e+02,\n",
       "       4.12786803e+02, 3.93972305e+02, 3.79033952e+02, 3.24164546e+02,\n",
       "       1.89019962e+02, 1.49875220e+02, 1.28168449e+02, 1.11828723e+02,\n",
       "       7.41386925e+01, 7.08973432e+01, 6.86486554e+01, 3.87496720e+01,\n",
       "       2.86246740e+01, 2.67003407e+01, 2.01232379e+01, 1.54870803e+01,\n",
       "       1.53323208e+01, 1.24817045e+01, 1.11418118e+01, 9.89296729e+00,\n",
       "       9.71178845e+00, 8.67822990e+00, 8.26455082e+00, 7.03242012e+00,\n",
       "       5.75139162e+00, 4.12384819e+00, 2.68699307e+00, 2.31254872e+00,\n",
       "       2.12212867e+00, 1.87438792e+00, 1.74403852e+00, 1.69217836e+00,\n",
       "       1.49752590e+00, 1.18941242e+00, 9.63563415e-01, 5.19347915e-01,\n",
       "       3.95250014e-01, 2.95299635e-01, 2.43102642e-01, 2.40175987e-01,\n",
       "       1.99774224e-01, 1.87509847e-01, 1.81733641e-01, 1.63943305e-01,\n",
       "       1.43578877e-01, 1.38775524e-01, 9.00353904e-02, 8.48129372e-02,\n",
       "       7.83043877e-02, 7.33902025e-02, 6.90040380e-02, 4.67087237e-02,\n",
       "       4.39028403e-02, 3.86044052e-02, 3.33917784e-02, 3.05975330e-02,\n",
       "       2.99428716e-02, 2.05366971e-02, 1.64133383e-02, 1.17835303e-02,\n",
       "       1.07050048e-02, 8.35788463e-03, 7.91556558e-03, 7.15958807e-03,\n",
       "       6.86411548e-03, 6.15491614e-03, 5.42025380e-03, 5.35825938e-03,\n",
       "       5.11359260e-03, 4.98309778e-03, 3.18432826e-03, 2.85766980e-03,\n",
       "       2.57369352e-03, 2.15511151e-03, 1.73931119e-03, 1.69147917e-03,\n",
       "       1.34417303e-03, 1.27733446e-03, 1.07394768e-03, 1.04635736e-03,\n",
       "       7.32936020e-04, 4.89941364e-04, 4.18278696e-04, 3.21879205e-04,\n",
       "       2.68925193e-04, 2.40324410e-04, 1.59172014e-04, 6.10562848e-05,\n",
       "       3.56180337e-05, 2.14292923e-05, 2.40684450e-25, 2.40684450e-25,\n",
       "       2.40684450e-25, 2.40684450e-25, 2.40684450e-25, 2.40684450e-25,\n",
       "       2.40684450e-25, 2.40684450e-25, 2.40684450e-25, 2.40684450e-25,\n",
       "       2.40684450e-25, 2.40684450e-25, 2.40684450e-25, 2.40684450e-25,\n",
       "       2.40684450e-25, 2.40684450e-25, 2.40684450e-25, 2.40684450e-25])"
      ]
     },
     "execution_count": 142,
     "metadata": {},
     "output_type": "execute_result"
    }
   ],
   "source": [
    "pca.explained_variance_"
   ]
  },
  {
   "cell_type": "code",
   "execution_count": 143,
   "metadata": {},
   "outputs": [
    {
     "data": {
      "text/plain": [
       "array([92.9, 96.3, 98.4, 99.2, 99.6, 99.7, 99.8, 99.8, 99.8, 99.8, 99.8,\n",
       "       99.8, 99.8, 99.8, 99.8, 99.8, 99.8, 99.8, 99.8, 99.8, 99.8, 99.8,\n",
       "       99.8, 99.8, 99.8, 99.8, 99.8, 99.8, 99.8, 99.8, 99.8, 99.8, 99.8,\n",
       "       99.8, 99.8, 99.8, 99.8, 99.8, 99.8, 99.8, 99.8, 99.8, 99.8, 99.8,\n",
       "       99.8, 99.8, 99.8, 99.8, 99.8, 99.8, 99.8, 99.8, 99.8, 99.8, 99.8,\n",
       "       99.8, 99.8, 99.8, 99.8, 99.8, 99.8, 99.8, 99.8, 99.8, 99.8, 99.8,\n",
       "       99.8, 99.8, 99.8, 99.8, 99.8, 99.8, 99.8, 99.8, 99.8, 99.8, 99.8,\n",
       "       99.8, 99.8, 99.8, 99.8, 99.8, 99.8, 99.8, 99.8, 99.8, 99.8, 99.8,\n",
       "       99.8, 99.8, 99.8, 99.8, 99.8, 99.8, 99.8, 99.8, 99.8, 99.8, 99.8,\n",
       "       99.8, 99.8, 99.8, 99.8, 99.8, 99.8, 99.8, 99.8, 99.8, 99.8, 99.8,\n",
       "       99.8, 99.8, 99.8, 99.8, 99.8, 99.8, 99.8, 99.8, 99.8, 99.8, 99.8,\n",
       "       99.8, 99.8, 99.8, 99.8, 99.8, 99.8, 99.8, 99.8, 99.8, 99.8, 99.8])"
      ]
     },
     "execution_count": 143,
     "metadata": {},
     "output_type": "execute_result"
    }
   ],
   "source": [
    "variance = np.cumsum(np.round(pca.explained_variance_ratio_, decimals=3)*100)\n",
    "variance"
   ]
  },
  {
   "cell_type": "code",
   "execution_count": 144,
   "metadata": {},
   "outputs": [
    {
     "data": {
      "image/png": "[encoded data removed]",
      "text/plain": [
       "<Figure size 432x288 with 1 Axes>"
      ]
     },
     "metadata": {
      "needs_background": "light"
     },
     "output_type": "display_data"
    }
   ],
   "source": [
    "# Using a scree plot to show the variance explained by each principal component within the dataset\n",
    "plt.plot(np.cumsum(pca.explained_variance_ratio_))\n",
    "plt.xlabel('number of components')\n",
    "plt.ylabel('cumulative explained variance')\n",
    "plt.title('PCA Analysis')\n",
    "plt.show()"
   ]
  },
  {
   "cell_type": "markdown",
   "metadata": {},
   "source": [
    "### Random Forest with PCA"
   ]
  },
  {
   "cell_type": "markdown",
   "metadata": {},
   "source": [
    "Construct a PCA and Random Forest Regressor pipeline. A pipeline is a term for the processing of data until it reaches a form that is usable for the machine learning algorithm. Now there is an actual pipeline module you'll need to use, that streamlines the process of dimension reduction and application of the machine learning algorithm, in this case the random forest regression model. For now, use the first two principal components to construct the pipeline."
   ]
  },
  {
   "cell_type": "code",
   "execution_count": 145,
   "metadata": {},
   "outputs": [],
   "source": [
    "pca = PCA(n_components=2) # Choosing 2 principal components\n",
    "X_r = pca.fit(X).transform(X)\n",
    "forest = RandomForestClassifier(n_estimators=10000, random_state=0, n_jobs=-1) # Using random forest regression model\n",
    "pipeline = Pipeline(steps=[('pca', pca), ('forest', forest)]) # Pipeline with Random Forest and PCA"
   ]
  },
  {
   "cell_type": "markdown",
   "metadata": {},
   "source": [
    "### Plot the principal components"
   ]
  },
  {
   "cell_type": "markdown",
   "metadata": {},
   "source": [
    "Select the first two components and display them. As rule of thumb, the first to components are selected as they are easier to display in a 2-dimensions."
   ]
  },
  {
   "cell_type": "code",
   "execution_count": 147,
   "metadata": {},
   "outputs": [
    {
     "data": {
      "image/png": "[encoded data removed]",
      "text/plain": [
       "<Figure size 432x288 with 1 Axes>"
      ]
     },
     "metadata": {
      "needs_background": "light"
     },
     "output_type": "display_data"
    }
   ],
   "source": [
    "plt.figure()\n",
    "colors = ['navy', 'turquoise', 'darkorange']\n",
    "lw = 2\n",
    "\n",
    "for color, i, target_name in zip(colors, [0, 1, 2], [0, 1]):\n",
    "    plt.scatter(X_r[y == i, 0], X_r[y == i, 1], color=color, alpha=.8, lw=lw,\n",
    "                label=target_name)\n",
    "plt.legend(loc='best', shadow=False, scatterpoints=1)\n",
    "plt.title('PCA')\n",
    "\n",
    "plt.show()"
   ]
  },
  {
   "cell_type": "markdown",
   "metadata": {},
   "source": [
    "### Split dataset in training and test sets"
   ]
  },
  {
   "cell_type": "markdown",
   "metadata": {},
   "source": [
    "Split the data into training and test sets and use the pipeline to fit and test the model."
   ]
  },
  {
   "cell_type": "code",
   "execution_count": 148,
   "metadata": {},
   "outputs": [],
   "source": [
    "X_train, X_test, y_train, y_test = train_test_split(X, y, test_size=0.3, random_state=0)"
   ]
  },
  {
   "cell_type": "code",
   "execution_count": 149,
   "metadata": {},
   "outputs": [
    {
     "data": {
      "text/plain": [
       "Pipeline(memory=None,\n",
       "     steps=[('pca', PCA(copy=True, iterated_power='auto', n_components=2, random_state=None,\n",
       "  svd_solver='auto', tol=0.0, whiten=False)), ('forest', RandomForestClassifier(bootstrap=True, class_weight=None, criterion='gini',\n",
       "            max_depth=None, max_features='auto', max_leaf_nodes=None,\n",
       "         ...mators=10000, n_jobs=-1,\n",
       "            oob_score=False, random_state=0, verbose=0, warm_start=False))])"
      ]
     },
     "execution_count": 149,
     "metadata": {},
     "output_type": "execute_result"
    }
   ],
   "source": [
    "# Fitting with the pipeline\n",
    "pipeline.fit(X_train, y_train)"
   ]
  },
  {
   "cell_type": "code",
   "execution_count": 151,
   "metadata": {},
   "outputs": [],
   "source": [
    "y_pred = pipeline.predict(X_test)"
   ]
  },
  {
   "cell_type": "code",
   "execution_count": 152,
   "metadata": {},
   "outputs": [
    {
     "data": {
      "text/plain": [
       "0.998"
      ]
     },
     "execution_count": 152,
     "metadata": {},
     "output_type": "execute_result"
    }
   ],
   "source": [
    "# Score\n",
    "pipeline.score(X_test, y_test)"
   ]
  },
  {
   "cell_type": "markdown",
   "metadata": {},
   "source": [
    "### Evaluate the results"
   ]
  },
  {
   "cell_type": "markdown",
   "metadata": {},
   "source": [
    "Using the `sklearn.metrics` moduel determine the accuracy score, i.e., the coefficient of determination $R^2$ of the prediction."
   ]
  },
  {
   "cell_type": "code",
   "execution_count": 153,
   "metadata": {},
   "outputs": [],
   "source": [
    "from sklearn.metrics import r2_score"
   ]
  },
  {
   "cell_type": "code",
   "execution_count": 154,
   "metadata": {},
   "outputs": [
    {
     "name": "stdout",
     "output_type": "stream",
     "text": [
      "0.988898949455782\n"
     ]
    }
   ],
   "source": [
    "print(r2_score(y_test, y_pred))"
   ]
  },
  {
   "cell_type": "markdown",
   "metadata": {},
   "source": [
    "### References"
   ]
  },
  {
   "cell_type": "markdown",
   "metadata": {},
   "source": [
    "Referred to for determination of input features to predict power output: [Forecasting Wind Power](https://lucdemortier.github.io/articles/17/WindPower).\n",
    "\n",
    "[Selecting good features – Part IV: stability selection, RFE and everything side by side](http://blog.datadive.net/selecting-good-features-part-iv-stability-selection-rfe-and-everything-side-by-side/)"
   ]
  },
  {
   "cell_type": "code",
   "execution_count": null,
   "metadata": {},
   "outputs": [],
   "source": []
  }
 ],
 "metadata": {
  "kernelspec": {
   "display_name": "Python 3",
   "language": "python",
   "name": "python3"
  },
  "language_info": {
   "codemirror_mode": {
    "name": "ipython",
    "version": 3
   },
   "file_extension": ".py",
   "mimetype": "text/x-python",
   "name": "python",
   "nbconvert_exporter": "python",
   "pygments_lexer": "ipython3",
   "version": "3.7.0"
  }
 },
 "nbformat": 4,
 "nbformat_minor": 2
}
